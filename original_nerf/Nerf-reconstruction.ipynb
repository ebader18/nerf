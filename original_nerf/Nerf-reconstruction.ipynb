{
 "cells": [
  {
   "cell_type": "markdown",
   "id": "88524c1d",
   "metadata": {},
   "source": [
    "# TODO\n",
    "* Build training and testing dataset - done\n",
    "* Build json file for build and function to read and execute builds\n",
    "  * cdd\n",
    "* Add GLO"
   ]
  },
  {
   "cell_type": "code",
   "execution_count": null,
   "id": "257860de-71ad-4386-88bd-fc945e3bc256",
   "metadata": {},
   "outputs": [],
   "source": [
    "import torch\n",
    "import torch.nn as nn\n",
    "import numpy as np\n",
    "\n",
    "import os\n",
    "import imageio\n",
    "import matplotlib.pyplot as plt\n",
    "from torch.utils.data import DataLoader\n",
    "from tqdm import tqdm\n",
    "\n",
    "from dataset import get_rays\n",
    "from rendering import rendering\n",
    "from model import Voxels, Nerf\n",
    "from ml_helpers import training"
   ]
  },
  {
   "cell_type": "markdown",
   "id": "5922e325-8976-4a36-88aa-908cbe4d3953",
   "metadata": {},
   "source": [
    "# Hyperparameters / Dataset"
   ]
  },
  {
   "cell_type": "code",
   "execution_count": null,
   "id": "66e62ab8-9524-48b6-a646-01b27c9a3fd6",
   "metadata": {},
   "outputs": [],
   "source": [
    "SEED = 18\n",
    "batch_size = 1024   # 4096 used in paper, 1024 used in code\n",
    "nb_epochs = 25\n",
    "lr = 1e-3   # 5e-4 used in paper, 1e-3 used in code\n",
    "#final_lr = 5e-5\n",
    "gamma = .5\n",
    "#gamma = (final_lr / lr) ** (1 / (nb_epochs - 1))\n",
    "nb_bins = 100   # 128 used in paper, 100 used in code\n",
    "hres, vres = 800, 800\n",
    "hres_wu_low, hres_wu_high = hres//4, 3*hres//4\n",
    "vres_wu_low, vres_wu_high = vres//4, 3*vres//4\n",
    "\n",
    "#dataset = 'fox'\n",
    "dataset = 'helmet/_temp'\n",
    "datapath = f'C:/_sw/eb_python/deep_learning/_dataset/NeRF/images/{dataset}'\n",
    "\n",
    "torch.manual_seed(SEED)\n",
    "np.random.seed(SEED)\n",
    "\n",
    "train_o, train_d, target_px_values = get_rays(datapath, mode='train')\n",
    "train_dataloader = DataLoader(torch.cat((torch.from_numpy(train_o).reshape(-1, 3).type(torch.float),\n",
    "                                   torch.from_numpy(train_d).reshape(-1, 3).type(torch.float),\n",
    "                                   torch.from_numpy(target_px_values).reshape(-1, 3).type(torch.float)), dim=1),\n",
    "                                   batch_size=batch_size, shuffle=True)\n",
    "train_dataloader_warmup = DataLoader(torch.cat((torch.from_numpy(train_o).reshape(-1, hres, vres, 3)[:, hres_wu_low:hres_wu_high, vres_wu_low:vres_wu_high, :].reshape(-1, 3).type(torch.float),\n",
    "                               torch.from_numpy(train_d).reshape(-1, hres, vres, 3)[:, hres_wu_low:hres_wu_high, vres_wu_low:vres_wu_high, :].reshape(-1, 3).type(torch.float),\n",
    "                               torch.from_numpy(target_px_values).reshape(-1, hres, vres, 3)[:, hres_wu_low:hres_wu_high, vres_wu_low:vres_wu_high, :].reshape(-1, 3).type(torch.float)), dim=1),\n",
    "                               batch_size=batch_size, shuffle=True)\n",
    "\n",
    "test_o, test_d, test_target_px_values = get_rays(datapath, mode='test')\n",
    "#test_dataloader = DataLoader(torch.cat((torch.from_numpy(test_o).reshape(-1, 3).type(torch.float),\n",
    "#                                   torch.from_numpy(test_d).reshape(-1, 3).type(torch.float),\n",
    "#                                   torch.from_numpy(target_px_values).reshape(-1, 3).type(torch.float)), dim=1),\n",
    "#                                   batch_size=batch_size, shuffle=True)"
   ]
  },
  {
   "cell_type": "markdown",
   "id": "017a46f8",
   "metadata": {},
   "source": [
    "# Testing"
   ]
  },
  {
   "cell_type": "code",
   "execution_count": null,
   "id": "07d917ee",
   "metadata": {},
   "outputs": [],
   "source": [
    "def mse2psnr(mse):\n",
    "    return 20 * np.log10(1 / np.sqrt(mse))\n",
    "\n",
    "\n",
    "@torch.no_grad()\n",
    "def test(model, o, d, tn, tf, nb_bins=100, chunk_size=10, H=400, W=400, target=None):\n",
    "    \n",
    "    o = o.chunk(chunk_size)\n",
    "    d = d.chunk(chunk_size)\n",
    "    \n",
    "    image = []\n",
    "    for o_batch, d_batch in zip(o, d):\n",
    "        img_batch = rendering(model, o_batch, d_batch, tn, tf, nb_bins=nb_bins, device=o_batch.device)\n",
    "        image.append(img_batch) # N, 3\n",
    "    image = torch.cat(image)\n",
    "    image = image.reshape(H, W, 3).cpu().numpy()\n",
    "    \n",
    "    if target is not None:\n",
    "        mse = ((image - target)**2).mean()\n",
    "        psnr = mse2psnr(mse)\n",
    "    \n",
    "    if target is not None: \n",
    "        return image, mse, psnr\n",
    "    else:\n",
    "        return image"
   ]
  },
  {
   "cell_type": "code",
   "execution_count": null,
   "id": "a5029a80",
   "metadata": {},
   "outputs": [],
   "source": [
    "def ShowTrainResults(save_path, training_loss, title, window_size=10):\n",
    "    window = np.ones(window_size) / window_size\n",
    "    moving_average = np.convolve(training_loss, window, 'valid')\n",
    "\n",
    "    plt.plot(training_loss)\n",
    "    plt.plot(np.arange(window_size - 1, len(training_loss)), moving_average, label='Moving Average', linestyle='--')\n",
    "\n",
    "    plt.ylim(0.00001, 1)\n",
    "    plt.grid(which='major', linestyle='-', linewidth='0.5', color='black')\n",
    "    plt.grid(which='minor', linestyle=':', linewidth='0.5', color='gray')\n",
    "    plt.yscale('log')\n",
    "    plt.xlabel('Batches')\n",
    "    plt.ylabel('Training Loss')\n",
    "    plt.title(f'{title}', fontsize=10)\n",
    "    plt.legend()\n",
    "    plt.savefig(f'{save_path}/results/{title}.png', dpi=300)  # Saves the plot as a PNG file with 300 DPI\n",
    "    plt.show()"
   ]
  },
  {
   "cell_type": "code",
   "execution_count": null,
   "id": "7e1e0f6a",
   "metadata": {},
   "outputs": [],
   "source": [
    "def ShowTestImages(save_path, model, tn, tf, device, title, H, W):\n",
    "    col, row = 4, 13\n",
    "    fig, axs = plt.subplots(row, col, figsize=(20, 65))\n",
    "    img_idx = 0\n",
    "    for r in tqdm(range(row)):\n",
    "        for c in range(col):\n",
    "            #img_idx = 72 * r + 18 * c\n",
    "            img, mse, psnr = test(model, torch.from_numpy(test_o[img_idx]).to(device).float(), torch.from_numpy(test_d[img_idx]).to(device).float(),\n",
    "                    tn, tf, nb_bins=100, chunk_size=10, H=hres, W=vres, target=test_target_px_values[img_idx].reshape(H, W, 3))\n",
    "            axs[r, c].imshow(img, cmap='gray')\n",
    "            axs[r, c].set_title(f'Image {img_idx}, PSNR: {psnr:.1f}')\n",
    "            axs[r, c].axis('off')  # Hide axis for a cleaner look\n",
    "            img_idx += 1\n",
    "\n",
    "    plt.tight_layout()  # Adjust subplots to fit in the figure area\n",
    "    fig.suptitle(title, fontsize=16, y=1.05)\n",
    "    plt.savefig(f'{save_path}/results/{title}.png', dpi=300)  # Saves the plot as a PNG file with 300 DPI\n",
    "    plt.show()"
   ]
  },
  {
   "cell_type": "markdown",
   "id": "bbcc6284-ff38-4a9d-a914-7cd8ff9163fb",
   "metadata": {},
   "source": [
    "# Training"
   ]
  },
  {
   "cell_type": "code",
   "execution_count": null,
   "id": "edd96eec-e258-469d-8781-da1dc2bd1ca6",
   "metadata": {},
   "outputs": [],
   "source": [
    "device = 'cuda'\n",
    "\n",
    "#tn, tf = 8., 12.\n",
    "tn, tf = 2., 6.\n",
    "\n",
    "model = Nerf(hidden_dim=128).to(device)\n",
    "optimizer = torch.optim.Adam(model.parameters(), lr=lr)\n",
    "scheduler = torch.optim.lr_scheduler.MultiStepLR(optimizer, milestones=[5, 10], gamma=gamma)\n",
    "#scheduler = torch.optim.lr_scheduler.ExponentialLR(optimizer, gamma=gamma)\n",
    "\n",
    "training_loss = training(model, optimizer, scheduler, tn, tf, nb_bins, 1, train_dataloader_warmup, datapath, 'warmup', device=device)\n",
    "ShowTrainResults(datapath, training_loss, \"Training Loss for warmup\", window_size=10)\n",
    "ShowTestImages(datapath, model, tn, tf, device, \"Test images for wamrup dataloader\", hres, vres)\n",
    "\n",
    "training_loss = training(model, optimizer, scheduler, tn, tf, nb_bins, nb_epochs, train_dataloader, datapath, 'epoch', device=device)\n",
    "ShowTrainResults(datapath, training_loss, f'Training Loss for epoch #{nb_epochs}', window_size=600)\n",
    "ShowTestImages(datapath, model, tn, tf, device, f'Test images for epoch #{nb_epochs}', hres, vres)"
   ]
  }
 ],
 "metadata": {
  "kernelspec": {
   "display_name": "Python 3 (ipykernel)",
   "language": "python",
   "name": "python3"
  },
  "language_info": {
   "codemirror_mode": {
    "name": "ipython",
    "version": 3
   },
   "file_extension": ".py",
   "mimetype": "text/x-python",
   "name": "python",
   "nbconvert_exporter": "python",
   "pygments_lexer": "ipython3",
   "version": "3.11.4"
  }
 },
 "nbformat": 4,
 "nbformat_minor": 5
}
