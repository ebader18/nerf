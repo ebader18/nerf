{
 "cells": [
  {
   "cell_type": "code",
   "execution_count": 1,
   "id": "79b0bd2a-3cca-4699-862d-bf8dab4b82a1",
   "metadata": {},
   "outputs": [],
   "source": [
    "import numpy as np\n",
    "import matplotlib.pyplot as plt\n",
    "import torch"
   ]
  },
  {
   "cell_type": "code",
   "execution_count": 2,
   "id": "de16ddc2-3bca-4ad0-a72e-1f817146e92a",
   "metadata": {},
   "outputs": [],
   "source": [
    "c2w1 = np.array([0.34303784370422363,\n",
    "                 -0.8594792485237122,\n",
    "                 0.3789729177951813,\n",
    "                 3.7897279262542725,\n",
    "                 0.9393215775489807,\n",
    "                 0.3138796091079712,\n",
    "                 -0.13839992880821228,\n",
    "                 -1.3840025663375854,\n",
    "                 0.0,\n",
    "                 0.40345385670661926,\n",
    "                 0.9150000214576721,\n",
    "                 9.149999618530273,\n",
    "                 0.0,\n",
    "                 0.0,\n",
    "                 0.0,\n",
    "                 1.0])\n",
    "c2w1 = c2w1.reshape((4, 4))\n",
    "\n",
    "\n",
    "c2w2 = np.array([-0.7053813934326172,\n",
    "                -0.5776947736740112,\n",
    "                0.41073814034461975,\n",
    "                4.1073899269104,\n",
    "                0.7088279724121094,\n",
    "                -0.5748858451843262,\n",
    "                0.4087409973144531,\n",
    "                4.087401390075684,\n",
    "                0.0,\n",
    "                0.5794609785079956,\n",
    "                0.8149999976158142,\n",
    "                8.149999618530273,\n",
    "                0.0,\n",
    "                0.0,\n",
    "                0.0,\n",
    "                1.0])\n",
    "c2w2 = c2w2.reshape((4, 4))"
   ]
  },
  {
   "cell_type": "code",
   "execution_count": 6,
   "id": "d17c07c5-599a-452f-89da-dba1d9469a98",
   "metadata": {},
   "outputs": [],
   "source": [
    "H = 400\n",
    "W = 400\n",
    "f = 1200"
   ]
  },
  {
   "cell_type": "code",
   "execution_count": 47,
   "id": "94cebcf8-9d6e-42e3-ba83-f83c0aab9ac0",
   "metadata": {},
   "outputs": [],
   "source": [
    "c2w = c2w2\n",
    "\n",
    "rays_o = np.zeros((H*W, 3))\n",
    "rays_d = np.zeros((H*W, 3))\n",
    "\n",
    "u = np.arange(W)\n",
    "v = np.arange(H)\n",
    "u, v = np.meshgrid(u, v)\n",
    "\n",
    "dirs = np.stack((u - W / 2,\n",
    "                 -(v - H / 2),\n",
    "                 - np.ones_like(u) * f), axis=-1)\n",
    "\n",
    "dirs = (c2w[:3, :3] @ dirs[..., None]).squeeze(-1)\n",
    "\n",
    "rays_d = dirs / np.linalg.norm(dirs, axis=-1, keepdims=True)\n",
    "rays_d = rays_d.reshape(-1, 3)\n",
    "\n",
    "rays_o += c2w[:3, 3]"
   ]
  },
  {
   "cell_type": "code",
   "execution_count": 48,
   "id": "dad23203-b83e-4b45-a74e-8955c3759058",
   "metadata": {},
   "outputs": [],
   "source": [
    "def plot_rays(o, d, t):\n",
    "    \n",
    "    fig = plt.figure(figsize=(12, 12))\n",
    "    ax = fig.gca(projection='3d')\n",
    "    \n",
    "    pt1 = o\n",
    "    pt2 = o + t * d\n",
    "    \n",
    "    for p1, p2 in zip(pt1[::100], pt2[::100]):\n",
    "        plt.plot([p1[0], p2[0]], [p1[1], p2[1]], [p1[2], p2[2]])\n",
    "    \n",
    "    plt.show()"
   ]
  },
  {
   "cell_type": "code",
   "execution_count": 49,
   "id": "2f8e83b3-1bef-44ec-9fc9-43288310e167",
   "metadata": {},
   "outputs": [],
   "source": [
    "class Sphere():\n",
    "    \n",
    "    def __init__(self, p, r, c):\n",
    "        self.p = p\n",
    "        self.r = r\n",
    "        self.c = c\n",
    "        \n",
    "    def intersect(self, x):\n",
    "        \"\"\"\n",
    "        :param x: points [batch_size, 3]\n",
    "        \"\"\"\n",
    "        \n",
    "        # (x- xc)^2 + (y-yc)^2 + (z-zc)^2 <= r^2 \n",
    "        \n",
    "        cond = (x[:, 0] - self.p[0])**2 + (x[:, 1] - self.p[1])**2 + (x[:, 2] - self.p[2])**2 <= self.r**2\n",
    "                \n",
    "        num_rays = x.shape[0]\n",
    "        colors = torch.zeros((num_rays, 3))\n",
    "        density = torch.zeros((num_rays, 1))\n",
    "        \n",
    "        colors[cond] = self.c\n",
    "        density[cond] = 10\n",
    "        \n",
    "        color_condition = x[:, 0] < 0\n",
    "        tmp = colors[color_condition, 0].clone()\n",
    "        colors[color_condition, 0] = colors[color_condition, 1].clone()\n",
    "        colors[color_condition, 1] = tmp\n",
    "        \n",
    "        return colors, density"
   ]
  },
  {
   "cell_type": "code",
   "execution_count": 50,
   "id": "527d394f-552e-42d4-9b79-fd1a6e10d6c7",
   "metadata": {},
   "outputs": [],
   "source": [
    "def compute_accumulated_transmittance(betas):\n",
    "    accumulated_transmittance = torch.cumprod(betas, 1) \n",
    "    accumulated_transmittance[:, 0] = 1.\n",
    "    return accumulated_transmittance\n",
    "\n",
    "def rendering(model, rays_o, rays_d, tn, tf, nb_bins=100, device='cpu'):\n",
    "    \n",
    "    t = torch.linspace(tn, tf, nb_bins).to(device) # [nb_bins]\n",
    "    delta = torch.cat((t[1:] - t[:-1], torch.tensor([1e10])))\n",
    "    \n",
    "    x = rays_o.unsqueeze(1) + t.unsqueeze(0).unsqueeze(-1) * rays_d.unsqueeze(1) # [nb_rays, nb_bins, 3]\n",
    "    \n",
    "    colors, density = model.intersect(x.reshape(-1, 3))\n",
    "    \n",
    "    colors = colors.reshape((x.shape[0], nb_bins, 3)) # [nb_rays, nb_bins, 3]\n",
    "    density = density.reshape((x.shape[0], nb_bins))\n",
    "    \n",
    "    alpha = 1 - torch.exp(- density * delta.unsqueeze(0)) # [nb_rays, nb_bins, 1]\n",
    "    T = compute_accumulated_transmittance(1 - alpha) # [nb_rays, nb_bins, 1]\n",
    "\n",
    "    c = (T.unsqueeze(-1) * alpha.unsqueeze(-1) * colors).sum(1) # [nb_rays, 3]\n",
    "    \n",
    "    return c"
   ]
  },
  {
   "cell_type": "code",
   "execution_count": 51,
   "id": "897784fd-ebd8-4af8-9469-0a752db15fb4",
   "metadata": {},
   "outputs": [],
   "source": [
    "model = Sphere(torch.tensor([0, 0, 0]), 1, torch.tensor([1., 0., 0.]))\n",
    "px_colors = rendering(model, torch.from_numpy(rays_o), torch.from_numpy(rays_d), 8, 12)"
   ]
  },
  {
   "cell_type": "code",
   "execution_count": 52,
   "id": "f308d864-588a-4395-b1a7-98f22df246e8",
   "metadata": {},
   "outputs": [],
   "source": [
    "img = px_colors.reshape(H, W, 3).cpu().numpy()"
   ]
  },
  {
   "cell_type": "code",
   "execution_count": 53,
   "id": "61746aa5-162e-4025-a8e3-4289ce9b8324",
   "metadata": {},
   "outputs": [
    {
     "data": {
      "text/plain": [
       "<matplotlib.image.AxesImage at 0x7feb73f96790>"
      ]
     },
     "execution_count": 53,
     "metadata": {},
     "output_type": "execute_result"
    },
    {
     "data": {
      "image/png": "[encoded data removed]",
      "text/plain": [
       "<Figure size 600x400 with 1 Axes>"
      ]
     },
     "metadata": {
      "needs_background": "light"
     },
     "output_type": "display_data"
    }
   ],
   "source": [
    "plt.figure(dpi=100)\n",
    "plt.imshow(img)"
   ]
  },
  {
   "cell_type": "code",
   "execution_count": 46,
   "id": "63864ade-86fe-496f-a2ed-62cf485b5199",
   "metadata": {},
   "outputs": [
    {
     "data": {
      "text/plain": [
       "<matplotlib.image.AxesImage at 0x7feb78061730>"
      ]
     },
     "execution_count": 46,
     "metadata": {},
     "output_type": "execute_result"
    },
    {
     "data": {
      "image/png": "[encoded data removed]",
      "text/plain": [
       "<Figure size 600x400 with 1 Axes>"
      ]
     },
     "metadata": {
      "needs_background": "light"
     },
     "output_type": "display_data"
    }
   ],
   "source": [
    "plt.figure(dpi=100)\n",
    "plt.imshow(img)"
   ]
  }
 ],
 "metadata": {
  "kernelspec": {
   "display_name": "Python 3 (ipykernel)",
   "language": "python",
   "name": "python3"
  },
  "language_info": {
   "codemirror_mode": {
    "name": "ipython",
    "version": 3
   },
   "file_extension": ".py",
   "mimetype": "text/x-python",
   "name": "python",
   "nbconvert_exporter": "python",
   "pygments_lexer": "ipython3",
   "version": "3.9.13"
  }
 },
 "nbformat": 4,
 "nbformat_minor": 5
}
