{
 "cells": [
  {
   "cell_type": "code",
   "execution_count": null,
   "id": "3f2597cc-246d-47b0-a3a2-12ae9aab1b80",
   "metadata": {},
   "outputs": [],
   "source": [
    "import torch\n",
    "import torch.nn as nn\n",
    "import numpy as np\n",
    "\n",
    "import os\n",
    "import imageio\n",
    "import matplotlib.pyplot as plt\n",
    "from torch.utils.data import DataLoader\n",
    "\n",
    "from dataset import get_rays\n",
    "from rendering import rendering\n",
    "from model import Voxels, Nerf\n",
    "from ml_helpers import training"
   ]
  },
  {
   "cell_type": "code",
   "execution_count": null,
   "id": "498415ee-07d8-4fed-b9b7-e2a17e889f27",
   "metadata": {},
   "outputs": [],
   "source": [
    "datapath = 'C:/_sw/eb_python/deep_learning/_dataset/NeRF/_images/fox'\n",
    "test_o, test_d, test_target_px_values = get_rays(datapath, mode='test')\n",
    "#test_o, test_d, test_target_px_values = get_rays('fox', mode='test')"
   ]
  },
  {
   "cell_type": "code",
   "execution_count": null,
   "id": "661b1702-95f8-4907-8ba5-9d89bb89d48b",
   "metadata": {},
   "outputs": [],
   "source": [
    "device = 'cuda'\n",
    "tn = 8.\n",
    "tf = 12."
   ]
  },
  {
   "cell_type": "code",
   "execution_count": null,
   "id": "00a26fa6-7074-44d2-a3f0-261e78b1fb00",
   "metadata": {},
   "outputs": [],
   "source": [
    "model = torch.load('model_nerf').to(device)"
   ]
  },
  {
   "cell_type": "code",
   "execution_count": null,
   "id": "309abb3d-5763-40e9-8d90-f8878bb22752",
   "metadata": {},
   "outputs": [],
   "source": [
    "def mse2psnr(mse):\n",
    "    return 20 * np.log10(1 / np.sqrt(mse))\n",
    "\n",
    "\n",
    "@torch.no_grad()\n",
    "def test(model, o, d, tn, tf, nb_bins=100, chunk_size=10, H=400, W=400, target=None):\n",
    "    \n",
    "    o = o.chunk(chunk_size)\n",
    "    d = d.chunk(chunk_size)\n",
    "    \n",
    "    image = []\n",
    "    for o_batch, d_batch in zip(o, d):\n",
    "        img_batch = rendering(model, o_batch, d_batch, tn, tf, nb_bins=nb_bins, device=o_batch.device)\n",
    "        image.append(img_batch) # N, 3\n",
    "    image = torch.cat(image)\n",
    "    image = image.reshape(H, W, 3).cpu().numpy()\n",
    "    \n",
    "    if target is not None:\n",
    "        mse = ((image - target)**2).mean()\n",
    "        psnr = mse2psnr(mse)\n",
    "    \n",
    "    if target is not None: \n",
    "        return image, mse, psnr\n",
    "    else:\n",
    "        return image"
   ]
  },
  {
   "cell_type": "code",
   "execution_count": null,
   "id": "9aa0672a-332f-43c1-8285-f4d1d63101c4",
   "metadata": {},
   "outputs": [],
   "source": [
    "img, mse, psnr = test(model, torch.from_numpy(test_o[0]).to(device).float(), torch.from_numpy(test_d[0]).to(device).float(),\n",
    "                tn, tf, nb_bins=100, chunk_size=10, target=test_target_px_values[0].reshape(400, 400, 3))\n",
    "\n",
    "print(psnr)"
   ]
  },
  {
   "cell_type": "code",
   "execution_count": null,
   "id": "e07ee377-c2b0-420c-bbcd-3e4f2dc04bba",
   "metadata": {},
   "outputs": [],
   "source": [
    "plt.imshow(img)"
   ]
  }
 ],
 "metadata": {
  "kernelspec": {
   "display_name": "Python 3 (ipykernel)",
   "language": "python",
   "name": "python3"
  },
  "language_info": {
   "codemirror_mode": {
    "name": "ipython",
    "version": 3
   },
   "file_extension": ".py",
   "mimetype": "text/x-python",
   "name": "python",
   "nbconvert_exporter": "python",
   "pygments_lexer": "ipython3",
   "version": "3.11.4"
  }
 },
 "nbformat": 4,
 "nbformat_minor": 5
}
