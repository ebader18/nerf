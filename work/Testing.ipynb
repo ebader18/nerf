{
 "cells": [
  {
   "cell_type": "code",
   "execution_count": null,
   "id": "3f2597cc-246d-47b0-a3a2-12ae9aab1b80",
   "metadata": {},
   "outputs": [],
   "source": [
    "import torch\n",
    "import torch.nn as nn\n",
    "import numpy as np\n",
    "\n",
    "import os\n",
    "import imageio\n",
    "import matplotlib.pyplot as plt\n",
    "from torch.utils.data import DataLoader\n",
    "\n",
    "from dataset import get_rays\n",
    "from rendering import rendering\n",
    "from model import Voxels, Nerf\n",
    "from ml_helpers import training\n",
    "from tqdm import tqdm"
   ]
  },
  {
   "cell_type": "code",
   "execution_count": null,
   "id": "661b1702-95f8-4907-8ba5-9d89bb89d48b",
   "metadata": {},
   "outputs": [],
   "source": [
    "#tn, tf = 8., 12.\n",
    "#tn, tf = 2., 6.\n",
    "tn, tf = 2., 6.\n",
    "device = 'cuda'\n",
    "\n",
    "#datapath = 'C:/_sw/eb_python/deep_learning/_dataset/NeRF/images/fox'\n",
    "#test_o, test_d, test_target_px_values = get_rays(datapath, mode='test')\n",
    "datapath = 'C:/_sw/eb_python/deep_learning/_dataset/NeRF/images/helmet/400x400'\n",
    "test_o, test_d, test_target_px_values = get_rays(datapath, mode='train')"
   ]
  },
  {
   "cell_type": "code",
   "execution_count": null,
   "id": "309abb3d-5763-40e9-8d90-f8878bb22752",
   "metadata": {},
   "outputs": [],
   "source": [
    "def mse2psnr(mse):\n",
    "    return 20 * np.log10(1 / np.sqrt(mse))\n",
    "\n",
    "\n",
    "@torch.no_grad()\n",
    "def test(model, o, d, tn, tf, nb_bins=100, chunk_size=10, H=400, W=400, target=None):\n",
    "    \n",
    "    o = o.chunk(chunk_size)\n",
    "    d = d.chunk(chunk_size)\n",
    "    \n",
    "    image = []\n",
    "    for o_batch, d_batch in zip(o, d):\n",
    "        img_batch = rendering(model, o_batch, d_batch, tn, tf, nb_bins=nb_bins, device=o_batch.device)\n",
    "        image.append(img_batch) # N, 3\n",
    "    image = torch.cat(image)\n",
    "    image = image.reshape(H, W, 3).cpu().numpy()\n",
    "    \n",
    "    if target is not None:\n",
    "        mse = ((image - target)**2).mean()\n",
    "        psnr = mse2psnr(mse)\n",
    "    \n",
    "    if target is not None: \n",
    "        return image, mse, psnr\n",
    "    else:\n",
    "        return image"
   ]
  },
  {
   "cell_type": "code",
   "execution_count": null,
   "id": "e07ee377-c2b0-420c-bbcd-3e4f2dc04bba",
   "metadata": {},
   "outputs": [],
   "source": [
    "def ShowTestReults(model, tn, tf, device, title):\n",
    "    col, row = 4, 13\n",
    "    fig, axs = plt.subplots(row, col, figsize=(20, 65))\n",
    "    for r in tqdm(range(row)):\n",
    "        for c in range(col):\n",
    "            img_idx = 72 * r + 18 * c\n",
    "            img, mse, psnr = test(model, torch.from_numpy(test_o[img_idx]).to(device).float(), torch.from_numpy(test_d[img_idx]).to(device).float(),\n",
    "                    tn, tf, nb_bins=100, chunk_size=10, target=test_target_px_values[img_idx].reshape(400, 400, 3))\n",
    "            axs[r, c].imshow(img, cmap='gray')\n",
    "            axs[r, c].set_title(f'Image {img_idx}, PSNR: {psnr:.1f}')\n",
    "            axs[r, c].axis('off')  # Hide axis for a cleaner look\n",
    "\n",
    "    plt.tight_layout()  # Adjust subplots to fit in the figure area\n",
    "    fig.suptitle(title, fontsize=16, y=1.05)\n",
    "    plt.show()"
   ]
  },
  {
   "cell_type": "code",
   "execution_count": null,
   "id": "6715c7ac",
   "metadata": {},
   "outputs": [],
   "source": [
    "#nn_model_path = 'model_nerf'\n",
    "#nn_model_path = 'C:/_sw/eb_python/deep_learning/_dataset/NeRF/nn_models/helmet/400x400/model_nerf0'\n",
    "nn_model_path = 'C:/_sw/eb_python/deep_learning/nerf/udemy_class/_test/model_nerf-epoch_6'\n",
    "model = torch.load(nn_model_path).to(device)\n",
    "\n",
    "ShowTestReults(model, tn, tf, device, \"Training loss - Epoch #7\")"
   ]
  },
  {
   "cell_type": "code",
   "execution_count": null,
   "id": "9aa0672a-332f-43c1-8285-f4d1d63101c4",
   "metadata": {},
   "outputs": [],
   "source": [
    "img_idx = 1\n",
    "img, mse, psnr = test(model, torch.from_numpy(test_o[img_idx]).to(device).float(), torch.from_numpy(test_d[img_idx]).to(device).float(),\n",
    "                tn, tf, nb_bins=100, chunk_size=10, target=test_target_px_values[img_idx].reshape(400, 400, 3))\n",
    "\n",
    "print(psnr)\n",
    "plt.imshow(img)"
   ]
  }
 ],
 "metadata": {
  "kernelspec": {
   "display_name": "Python 3 (ipykernel)",
   "language": "python",
   "name": "python3"
  },
  "language_info": {
   "codemirror_mode": {
    "name": "ipython",
    "version": 3
   },
   "file_extension": ".py",
   "mimetype": "text/x-python",
   "name": "python",
   "nbconvert_exporter": "python",
   "pygments_lexer": "ipython3",
   "version": "3.11.4"
  }
 },
 "nbformat": 4,
 "nbformat_minor": 5
}
